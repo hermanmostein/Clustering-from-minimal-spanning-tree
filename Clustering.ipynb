{
 "cells": [
  {
   "cell_type": "code",
   "execution_count": 1,
   "metadata": {},
   "outputs": [],
   "source": [
    "import numpy as np\n",
    "import matplotlib.pyplot as plt\n",
    "import math\n",
    "import networkx as nx\n",
    "import time\n",
    "import bisect\n",
    "from scipy.spatial.distance import cdist\n",
    "from scipy.sparse import coo_matrix\n",
    "#np.random.seed(11)\n"
   ]
  },
  {
   "cell_type": "code",
   "execution_count": 2,
   "metadata": {},
   "outputs": [],
   "source": [
    "class Node:\n",
    "    def __init__(self, name, x, y):\n",
    "        self.name = name\n",
    "        self.x = x\n",
    "        self.y = y\n",
    "        \n",
    "    def __str__(self):\n",
    "        return '({}, {}, {})'.format(self.name, self.x, self.y)\n",
    "    \n",
    "    \n",
    "\n",
    "        \n",
    "class Edge:\n",
    "    def __init__(self, a, b, weight):\n",
    "        self.a = a\n",
    "        self.b = b\n",
    "        self.weight = weight\n",
    "        \n",
    "    def __leq__(self, other):\n",
    "        return self.weight <= other.weight\n",
    "    def __geq__(self, other):\n",
    "        return self.weight >= other.weight\n",
    "    def __eq__(self, other):\n",
    "        return self.weight == other.weight\n",
    "    def __lt__(self, other):\n",
    "        return self.weight < other.weight\n",
    "    def __gt__(self, other):\n",
    "        return self.weight > other.weight\n",
    "    def __str__(self):\n",
    "        return '({}, {}, {})'.format(self.a.name, self.b.name, self.weight)\n",
    "\n",
    "class Graph:\n",
    "    def __init__(self, nodes, edges, adjacency_list):\n",
    "        self.nodes = nodes\n",
    "        self.edges = edges\n",
    "        self.adjacency_list = adjacency_list\n",
    "    "
   ]
  },
  {
   "cell_type": "code",
   "execution_count": 3,
   "metadata": {},
   "outputs": [],
   "source": [
    "def gaussian_clusters(num_points, num_clusters, standard_deviation):\n",
    "    cluster_size = num_points // num_clusters\n",
    "    centers = np.random.randn(num_clusters, 2)\n",
    "    points = np.vstack([center + standard_deviation*np.random.randn(cluster_size,2) for center in centers])\n",
    "    return points"
   ]
  },
  {
   "cell_type": "code",
   "execution_count": 4,
   "metadata": {},
   "outputs": [],
   "source": [
    "num_points = 1000\n",
    "num_clusters = 5\n",
    "\n",
    "X = gaussian_clusters(num_points = num_points, num_clusters = num_clusters, standard_deviation = 0.1)"
   ]
  },
  {
   "cell_type": "code",
   "execution_count": 5,
   "metadata": {},
   "outputs": [
    {
     "data": {
      "text/plain": [
       "<matplotlib.collections.PathCollection at 0x7f8d898c25b0>"
      ]
     },
     "execution_count": 5,
     "metadata": {},
     "output_type": "execute_result"
    },
    {
     "data": {
      "image/png": "[encoded data removed]",
      "text/plain": [
       "<Figure size 432x288 with 1 Axes>"
      ]
     },
     "metadata": {
      "needs_background": "light"
     },
     "output_type": "display_data"
    }
   ],
   "source": [
    "plt.scatter(*X.T)"
   ]
  },
  {
   "cell_type": "code",
   "execution_count": 6,
   "metadata": {},
   "outputs": [],
   "source": [
    "dist = cdist(X,X)"
   ]
  },
  {
   "cell_type": "code",
   "execution_count": 7,
   "metadata": {},
   "outputs": [
    {
     "name": "stdout",
     "output_type": "stream",
     "text": [
      "My MST: --- 0.0011429786682128906 seconds ---\n",
      "My MST: --- 1.465165138244629 seconds ---\n"
     ]
    }
   ],
   "source": [
    "start_time = time.time()\n",
    "nodes = []\n",
    "for name, x in enumerate(X):\n",
    "    nodes.append(Node(name, x[0], x[1]))\n",
    "print('My MST: ' + \"--- %s seconds ---\" % (time.time() - start_time))\n",
    "\n",
    "\n",
    "\n",
    "start_time = time.time()\n",
    "edges = []\n",
    "for i in range(len(dist)):\n",
    "    for j in range(len(dist)):\n",
    "        edges.append(Edge(nodes[i], nodes[j], dist[i, j]))\n",
    "print('My MST: ' + \"--- %s seconds ---\" % (time.time() - start_time))\n",
    "#edges.sort()"
   ]
  },
  {
   "cell_type": "markdown",
   "metadata": {},
   "source": [
    "# Adjecency list"
   ]
  },
  {
   "cell_type": "code",
   "execution_count": 9,
   "metadata": {},
   "outputs": [
    {
     "name": "stdout",
     "output_type": "stream",
     "text": [
      "Create Adjacencylist: --- 0.47639894485473633 seconds ---\n"
     ]
    }
   ],
   "source": [
    "from heapq import heapify, heappush, heappop\n",
    "\n",
    "\n",
    "start_time = time.time()\n",
    "    \n",
    "adj_list = {}\n",
    "for index, edge in enumerate(edges):\n",
    "    if(edge.a in adj_list.keys()):\n",
    "        adj_list[edge.a].append(edge)\n",
    "        #bisect.insort(adj_list[edge.a], edge)\n",
    "    else:\n",
    "        adj_list[edge.a] = [edge]\n",
    "for i in adj_list.keys():\n",
    "    heapify(adj_list[i])\n",
    "        \n",
    "\n",
    "print('Create Adjacencylist: ' + \"--- %s seconds ---\" % (time.time() - start_time))\n",
    "\n",
    "graph = Graph(nodes, edges, adj_list)"
   ]
  },
  {
   "cell_type": "code",
   "execution_count": 10,
   "metadata": {},
   "outputs": [],
   "source": [
    "edges_tree_names = []\n",
    "def prims_ny1(graph_matrix):\n",
    "    \n",
    "    row = []\n",
    "    column = []\n",
    "    data = []\n",
    "    dimension = len(graph_matrix)\n",
    "    \n",
    "    mst_nodes= [nodes[0]]\n",
    "    \n",
    "    \n",
    "    \n",
    "    while len(mst_nodes) < dimension:\n",
    "        \n",
    "        smallest_weight = math.inf\n",
    "        best_node = None\n",
    "        best_edge = None\n",
    "        counter = 1\n",
    "        \n",
    "        for i in range(dimension-1):   \n",
    "            if(best_node is not None):\n",
    "                break\n",
    "            \n",
    "            for node in mst_nodes:\n",
    "                \n",
    "                \n",
    "                if((adj_list[node][i].weight < smallest_weight)):\n",
    "                    if(adj_list[node][i].b not in mst_nodes):\n",
    "\n",
    "                        smallest_weight = adj_list[node][i].weight\n",
    "                        best_node = adj_list[node][i].b\n",
    "                        best_edge = adj_list[node][i]\n",
    "                        \n",
    "        \n",
    "        if(best_node is not None):\n",
    "            mst_nodes.append(best_node)\n",
    "            \n",
    "        row.append(best_edge.a.name)\n",
    "        column.append(best_edge.b.name)\n",
    "        data.append(best_edge.weight)\n",
    "        edges_tree.append([best_edge.a.name, best_edge.b.name])\n",
    "    \n",
    "    return coo_matrix((data, (row, column)), shape=graph_matrix.shape)\n",
    "\n"
   ]
  },
  {
   "cell_type": "code",
   "execution_count": 11,
   "metadata": {},
   "outputs": [
    {
     "name": "stdout",
     "output_type": "stream",
     "text": [
      "My MST: --- 8.272353887557983 seconds ---\n",
      "NetworkX: --- 1.347571849822998 seconds ---\n"
     ]
    }
   ],
   "source": [
    "\n",
    "start_time = time.time()\n",
    "mst = prims_ny1(dist)\n",
    "print('My MST: ' + \"--- %s seconds ---\" % (time.time() - start_time))\n",
    "\n",
    "np_dist = np.array(dist)\n",
    "G = nx.convert_matrix.from_numpy_matrix(np_dist)\n",
    "\n",
    "start_time = time.time()\n",
    "nx.minimum_spanning_tree(G)\n",
    "print('NetworkX: ' + \"--- %s seconds ---\" % (time.time() - start_time))"
   ]
  },
  {
   "cell_type": "code",
   "execution_count": 12,
   "metadata": {},
   "outputs": [
    {
     "data": {
      "image/png": "[encoded data removed]",
      "text/plain": [
       "<Figure size 432x288 with 1 Axes>"
      ]
     },
     "metadata": {
      "needs_background": "light"
     },
     "output_type": "display_data"
    }
   ],
   "source": [
    "x = X[:,0].flatten()\n",
    "y = X[:,1].flatten()\n",
    "plot_edges = np.array(edges_tree_names)\n",
    "\n",
    "plt.plot(x[plot_edges.T], y[plot_edges.T], linestyle='-', color='black',\n",
    "        markerfacecolor='red', marker='o')\n",
    "\n",
    "\n",
    "plt.show()"
   ]
  },
  {
   "cell_type": "code",
   "execution_count": 13,
   "metadata": {},
   "outputs": [
    {
     "data": {
      "text/plain": [
       "'clusters = {}\\ndef single_linkage(num_clusters):\\n    edge_list = edges\\n    #print(edge_list)\\n    for cluster in range(num_clusters -1):\\n        longest_edge = []\\n        longest_distance = 0\\n        for i in edges:\\n            \\n            if(dist[i[0], i[1]] > longest_distance):\\n                longest_edge = i\\n                longest_distance = dist[i[0], i[1]]\\n        #print(longest_edge, longest_distance)\\n        clusters[cluster] = longest_edge[0]\\n        clusters[cluster+1] = longest_edge[1]\\n        edge_list.remove(longest_edge)\\n        #print(edge_list)\\n    return edge_list'"
      ]
     },
     "execution_count": 13,
     "metadata": {},
     "output_type": "execute_result"
    }
   ],
   "source": [
    "'''clusters = {}\n",
    "def single_linkage(num_clusters):\n",
    "    edge_list = edges\n",
    "    #print(edge_list)\n",
    "    for cluster in range(num_clusters -1):\n",
    "        longest_edge = []\n",
    "        longest_distance = 0\n",
    "        for i in edges:\n",
    "            \n",
    "            if(dist[i[0], i[1]] > longest_distance):\n",
    "                longest_edge = i\n",
    "                longest_distance = dist[i[0], i[1]]\n",
    "        #print(longest_edge, longest_distance)\n",
    "        clusters[cluster] = longest_edge[0]\n",
    "        clusters[cluster+1] = longest_edge[1]\n",
    "        edge_list.remove(longest_edge)\n",
    "        #print(edge_list)\n",
    "    return edge_list'''"
   ]
  },
  {
   "cell_type": "code",
   "execution_count": 14,
   "metadata": {},
   "outputs": [],
   "source": [
    "cluster_roots = {}\n",
    "def single_linkage(num_clusters):\n",
    "    edge_list = edges_tree\n",
    "    \n",
    "    for cluster in range(num_clusters -1):\n",
    "        longest_edge = None\n",
    "        longest_distance = 0\n",
    "        for i in edges_tree:\n",
    "            \n",
    "            if(dist[i[0], i[1]] > longest_distance):\n",
    "                longest_edge = i\n",
    "                longest_distance = dist[i[0], i[1]]\n",
    "        \n",
    "        clusters[cluster] = longest_edge[0]\n",
    "        clusters[cluster+1] = longest_edge[1]\n",
    "        edge_list.remove(longest_edge)\n",
    "        \n",
    "    return edge_list"
   ]
  },
  {
   "cell_type": "code",
   "execution_count": 15,
   "metadata": {},
   "outputs": [],
   "source": [
    "def connected_nodes(node, node_list):\n",
    "    return_list = []\n",
    "    for i in edges:\n",
    "        if(i[0] == node):\n",
    "            return_list.append([node, i[1]])\n",
    "            connected_nodes(node)\n",
    "        if(i[1] == node):\n",
    "            return_list.append([node, i[0]])\n",
    "    \n",
    "    return return_list"
   ]
  },
  {
   "cell_type": "code",
   "execution_count": null,
   "metadata": {},
   "outputs": [],
   "source": [
    "clusters = {}\n",
    "def make_clusters():\n",
    "    clusters = cluster_roots\n",
    "    \n",
    "    for edge in edges:\n",
    "        for i in clusters.keys():\n",
    "            if(edge.a.name in clusters[i]):\n",
    "                clusters[i].append(edge.b)\n",
    "                \n",
    "        "
   ]
  },
  {
   "cell_type": "code",
   "execution_count": 16,
   "metadata": {},
   "outputs": [
    {
     "name": "stdout",
     "output_type": "stream",
     "text": [
      "{0: 32, 1: 458, 2: 452, 3: 538, 4: 703}\n"
     ]
    },
    {
     "data": {
      "image/png": "[encoded data removed]",
      "text/plain": [
       "<Figure size 432x288 with 1 Axes>"
      ]
     },
     "metadata": {
      "needs_background": "light"
     },
     "output_type": "display_data"
    }
   ],
   "source": [
    "cluster_edges = np.array(single_linkage(num_clusters))\n",
    "print(cluster_roots)\n",
    "\n",
    "\n",
    "'''cluster = np.array(connected_nodes(clusters[int(i)]))\n",
    "plt.plot(x[cluster.T], y[cluster.T], linestyle='-', color='black',\n",
    "        markerfacecolor= 'red', marker='o')\n",
    "    '''\n",
    "\n",
    "plt.plot(x[cluster_edges.T], y[cluster_edges.T], linestyle='-', color='black',\n",
    "        markerfacecolor='red', marker='o')\n",
    "plt.show()"
   ]
  },
  {
   "cell_type": "markdown",
   "metadata": {},
   "source": [
    "# UMAP"
   ]
  },
  {
   "cell_type": "code",
   "execution_count": 17,
   "metadata": {},
   "outputs": [
    {
     "ename": "SyntaxError",
     "evalue": "cannot assign to function call (<ipython-input-17-7f42c27be1bd>, line 2)",
     "output_type": "error",
     "traceback": [
      "\u001b[0;36m  File \u001b[0;32m\"<ipython-input-17-7f42c27be1bd>\"\u001b[0;36m, line \u001b[0;32m2\u001b[0m\n\u001b[0;31m    sum(exp() for i in range(1, k)) = math.log(k)\u001b[0m\n\u001b[0m    ^\u001b[0m\n\u001b[0;31mSyntaxError\u001b[0m\u001b[0;31m:\u001b[0m cannot assign to function call\n"
     ]
    }
   ],
   "source": [
    "def eq2():\n",
    "    sum(exp() for i in range(1, k)) = math.log(k)"
   ]
  }
 ],
 "metadata": {
  "kernelspec": {
   "display_name": "Python 3",
   "language": "python",
   "name": "python3"
  },
  "language_info": {
   "codemirror_mode": {
    "name": "ipython",
    "version": 3
   },
   "file_extension": ".py",
   "mimetype": "text/x-python",
   "name": "python",
   "nbconvert_exporter": "python",
   "pygments_lexer": "ipython3",
   "version": "3.8.5"
  }
 },
 "nbformat": 4,
 "nbformat_minor": 4
}
